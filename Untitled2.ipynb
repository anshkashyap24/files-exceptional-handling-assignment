{
  "nbformat": 4,
  "nbformat_minor": 0,
  "metadata": {
    "colab": {
      "provenance": []
    },
    "kernelspec": {
      "name": "python3",
      "display_name": "Python 3"
    },
    "language_info": {
      "name": "python"
    }
  },
  "cells": [
    {
      "cell_type": "markdown",
      "source": [
        "1. What is the difference between interpreted and compiled languages ?\n",
        " - The main difference between interpreted and compiled languages lies in how the source code is executed by the computer.\n",
        "\n",
        "2. What is exception handling in Python ?\n",
        " - Exception handling is a mechanism used in Python to detect, handle, and recover from runtime errors (exceptions) without stopping the normal execution of the program.\n",
        "\n",
        "3. What is the purpose of the finally block in exception handling ?\n",
        " - The finally block is used to define cleanup code that must execute, regardless of whether an exception occurs or not.\n",
        "\n",
        "4. What is logging in Python ?\n",
        " - Logging in Python is a way to track events that happen during the execution of a program. It records messages that help developers debug, analyze, and audit how a program runs over time.\n",
        "\n",
        "5. What is the significance of the __del__ method in Python ?\n",
        " - The __del__ method is a special destructor method in Python, automatically called when an object is about to be destroyed or deleted. It is part of Python's garbage collection mechanism, which reclaims memory by destroying objects that are no longer referenced.\n",
        "\n",
        "6. What is the difference between import and from ... import in Python ?\n",
        " - In Python, both import and from ... import are used to include external modules in your program, but they behave differently and have different use cases.\n",
        "\n",
        "  - The entire module is imported.\n",
        "  - To use any function, class, or variable from the module, you must use the\n",
        "  - module name as a namespace.\n",
        "  - You access members with module_name.member_name.\n",
        "\n",
        "  - Imports only the specified functions, classes, or variables from a module.\n",
        "  - These imported members can be used directly without prefixing with the module name.\n",
        "\n",
        "7. How can you handle multiple exceptions in Python ?\n",
        " - In Python, you can handle multiple exceptions gracefully to prevent the program from crashing. This can be done using:\n",
        "    - Multiple except Blocks\n",
        "    - Single except Block with Multiple Exceptions\n",
        "    - Using a Generic Exception Block\n",
        "    - Using else and finally with Multiple Exceptions\n",
        "\n",
        "8. What is the purpose of the with statement when handling files in Python ?\n",
        " - The with statement in Python is used to simplify file handling by automatically managing resources, such as closing a file after it has been used. It ensures that resources like file handles are properly released, even if exceptions occur during file operations.\n",
        "\n",
        "9. What is the difference between multithreading and multiprocessing ?\n",
        " - Both multithreading and multiprocessing are techniques to achieve concurrent execution in Python, but they handle tasks differently and are suited for different types of problems.\n",
        "\n",
        "    - Multithreading is the process of running multiple threads (smaller units of a process) concurrently within the same process.\n",
        "    - Threads share the same memory space, making it efficient for I/O-bound tasks.\n",
        "    - In Python, the threading module is used to create and manage threads.\n",
        "\n",
        "MULTIPROCESSING\n",
        "\n",
        "    - Multiprocessing involves running multiple processes in parallel, where each process has its own memory space.\n",
        "    - It is used to leverage multiple CPU cores to execute CPU-bound tasks.\n",
        "    - The multiprocessing module provides an easy way to create and manage processes in Python.    \n",
        "\n",
        "10. What are the advantages of using logging in a program ?\n",
        " - Logging is an essential feature that provides a systematic way to track and record events that happen during the execution of a program. The logging module in Python allows developers to log messages at different levels to monitor and troubleshoot applications effectively.\n",
        "\n",
        "11. What is memory management in Python ?\n",
        " - Memory management in Python involves handling the allocation and deallocation of memory during the execution of a Python program. Python uses a combination of automatic memory management and garbage collection to efficiently manage memory and prevent memory leaks.\n",
        "\n",
        "12. What are the basic steps involved in exception handling in Python ?\n",
        " - Exception handling in Python is used to deal with errors and unexpected situations gracefully, preventing program crashes and ensuring the application runs smoothly. Python provides a structured way to handle exceptions using the try, except, else, and finally blocks.\n",
        "\n",
        "13. Why is memory management important in Python ?\n",
        " - Memory management is a critical aspect of any programming language, and Python is no exception. Proper memory management ensures that system resources are used efficiently and prevents issues such as memory leaks, performance degradation, and application crashes.\n",
        "\n",
        "14. What is the role of try and except in exception handling ?\n",
        " - Exception handling in Python ensures that a program continues to run smoothly even when an error occurs. The try and except blocks are the core components of exception handling that allow you to detect, catch, and handle errors gracefully.\n",
        "\n",
        "15. How does Python's garbage collection system work ?\n",
        " - Python’s garbage collection (GC) system is responsible for automatically managing memory by reclaiming memory occupied by objects that are no longer in use. Python uses a combination of:\n",
        "\n",
        "   - Reference Counting\n",
        "   -  Cyclic Garbage Collection\n",
        "   - These techniques ensure that unused memory is freed, preventing memory leaks and improving performance.  \n",
        "\n",
        "16. What is the purpose of the else block in exception handling ?\n",
        " - The else block in Python exception handling is used to execute code only if no exceptions occur in the try block. It provides a way to separate code that should run after a successful try block from the exception-handling logic in the except block.\n",
        "\n",
        "17. What are the common logging levels in Python ?\n",
        " - Python’s logging module provides a flexible framework for emitting log messages from applications. It comes with five standard logging levels that allow developers to categorize and control the verbosity of log output.\n",
        "\n",
        "  - 1. Overview of Logging Levels  \n",
        "  - 2. Explanation of Logging Levels\n",
        "  - 3. Setting Logging Level\n",
        "  - 4. Changing Log Format for Better Clarity\n",
        "  - 5. Filtering Log Messages    \n",
        "\n",
        "18. What is the difference between os.fork() and multiprocessing in Python ?\n",
        " - os.fork() is a low-level system call that creates a child process by duplicating the parent process. It is part of the os module and is available only on UNIX-like systems (Linux and macOS).\n",
        "\n",
        " -  Multiprocessing  provides a high-level interface to create and manage processes in Python. It is cross-platform and abstracts away the complexities of process management.\n",
        "\n",
        "19. What is the importance of closing a file in Python ?\n",
        " - When you work with files in Python, it is crucial to close the file after completing any read or write operations. Closing a file ensures that the file is properly saved, resources are freed, and potential errors or data corruption are avoided.\n",
        "\n",
        "20. What is the difference between file.read() and file.readline() in Python ?\n",
        " - When working with files in Python, you can read the file’s contents using different methods. The most commonly used methods are:\n",
        "\n",
        "    - file.read()  Reads the entire file or a specified number of characters.\n",
        "    - file.readline() Reads one line at a time from the file.\n",
        "\n",
        "21. What is the logging module in Python used for ?\n",
        " - The logging module in Python is used to record, track, and report events that occur while a program is running. It provides a flexible and efficient way to log messages at different levels of importance, which can be helpful for:\n",
        "\n",
        "  - Debugging\n",
        "  - Monitoring applications\n",
        "  - Tracking errors and unexpected behavior\n",
        "  - Generating audit trails for applications\n",
        "\n",
        "22. What is the os module in Python used for in file handling ?\n",
        " - The os module in Python provides functions to interact with the operating system and perform file and directory-related operations. It allows you to:\n",
        "\n",
        "  -  Create, delete, and rename files and directories\n",
        "  -  Check file existence and properties\n",
        "  -  Change and navigate directories\n",
        "  -  Handle file paths and permissions\n",
        "\n",
        "23. What are the challenges associated with memory management in Python ?\n",
        " - Python provides automatic memory management through techniques such as reference counting, garbage collection (GC), and dynamic memory allocation. However, despite these automated mechanisms, there are several challenges that developers may encounter in managing memory effectively.\n",
        "\n",
        "24.  How do you raise an exception manually in Python ?\n",
        " - In Python, you can manually raise an exception using the raise statement. This is useful when you want to signal that an error or unexpected condition has occurred, even if the Python interpreter did not encounter a problem by itself.\n",
        "\n",
        "25. Why is it important to use multithreading in certain applications ?\n",
        " - Multithreading in Python allows multiple threads to execute concurrently within a single process. Each thread operates independently, enabling tasks to be performed simultaneously and improving application performance, especially in scenarios where tasks involve waiting or I/O operations.\n",
        "\n",
        "\n",
        "\n",
        "\n",
        "\n",
        "\n",
        "  \n",
        "\n",
        "\n",
        "\n",
        "    "
      ],
      "metadata": {
        "id": "FLKWRK8pwFVR"
      }
    },
    {
      "cell_type": "code",
      "source": [
        "# 1. How can you open a file for writing in Python and write a string to it ?\n",
        "file = open(\"example.txt\", \"w\")\n",
        "file.write(\"Hello, this is a sample text.\\n\")\n",
        "file.close()\n"
      ],
      "metadata": {
        "id": "NW92W1_Q3y2X"
      },
      "execution_count": 1,
      "outputs": []
    },
    {
      "cell_type": "code",
      "source": [
        "# 2. Write a Python program to read the contents of a file and print each line\n",
        "with open(\"example.txt\", \"r\") as file:\n",
        "    lines = file.readlines()\n",
        "\n",
        "    for line in lines:\n",
        "        print(line.strip())\n",
        "\n"
      ],
      "metadata": {
        "colab": {
          "base_uri": "https://localhost:8080/"
        },
        "id": "QOu5voVu4RxC",
        "outputId": "0effe986-f7dd-41ae-e925-895814d3e0d3"
      },
      "execution_count": 4,
      "outputs": [
        {
          "output_type": "stream",
          "name": "stdout",
          "text": [
            "Hello, this is a sample text.\n",
            "Hii My name is Ansh\n"
          ]
        }
      ]
    },
    {
      "cell_type": "code",
      "source": [
        "# 3. How would you handle a case where the file doesn't exist while trying to open it for reading\n",
        "try:\n",
        "    with open(\"file.txt\", \"r\") as file:\n",
        "        content = file.read()\n",
        "        print(content)\n",
        "\n",
        "except FileNotFoundError:\n",
        "    print(\"Error: The file does not exist. Please check the filename and try again.\")\n"
      ],
      "metadata": {
        "colab": {
          "base_uri": "https://localhost:8080/"
        },
        "id": "i1GkvZ6F4_EN",
        "outputId": "979f3786-23ca-4b0d-d4e5-468b2f49d21d"
      },
      "execution_count": 6,
      "outputs": [
        {
          "output_type": "stream",
          "name": "stdout",
          "text": [
            "Error: The file does not exist. Please check the filename and try again.\n"
          ]
        }
      ]
    },
    {
      "cell_type": "code",
      "source": [
        "# 4. Write a Python script that reads from one file and writes its content to another file\n",
        "# Define source and destination file names\n",
        "import os\n",
        "\n",
        "# Define source and destination file names\n",
        "source_file = \"source.txt\"\n",
        "destination_file = \"destination.txt\"\n",
        "\n",
        "# Check if the source file exists\n",
        "if os.path.exists(source_file):\n",
        "    with open(source_file, \"r\") as source, open(destination_file, \"w\") as destination:\n",
        "        for line in source:\n",
        "            destination.write(line)\n",
        "    print(f\"Content copied successfully from '{source_file}' to '{destination_file}'!\")\n",
        "else:\n",
        "    print(f\"Error: '{source_file}' does not exist.\")\n",
        "\n"
      ],
      "metadata": {
        "colab": {
          "base_uri": "https://localhost:8080/"
        },
        "id": "0c2xsG8G5u1o",
        "outputId": "81410329-cf50-4570-c8e7-90245f2407d3"
      },
      "execution_count": 8,
      "outputs": [
        {
          "output_type": "stream",
          "name": "stdout",
          "text": [
            "Error: 'source.txt' does not exist.\n"
          ]
        }
      ]
    },
    {
      "cell_type": "code",
      "source": [
        "# 5. How would you catch and handle division by zero error in Python ?\n",
        "try:\n",
        "    numerator = 10\n",
        "    denominator = 0\n",
        "    result = numerator / denominator\n",
        "    print(f\"The result is: {result}\")\n",
        "\n",
        "except ZeroDivisionError:\n",
        "    print(\"cannot divide by zero.\")\n"
      ],
      "metadata": {
        "colab": {
          "base_uri": "https://localhost:8080/"
        },
        "id": "O2zFMPZb6KJk",
        "outputId": "dfbacd2a-ad9e-4530-b7dd-3db1d5548eec"
      },
      "execution_count": 9,
      "outputs": [
        {
          "output_type": "stream",
          "name": "stdout",
          "text": [
            "cannot divide by zero.\n"
          ]
        }
      ]
    },
    {
      "cell_type": "code",
      "source": [
        "# 6. Write a Python program that logs an error message to a log file when a division by zero exception occurs\n",
        "import logging\n",
        "\n",
        "# Configure logging settings\n",
        "logging.basicConfig(\n",
        "    filename=\"division_errors.log\",  # Log file name\n",
        "    level=logging.ERROR,             # Set logging level to ERROR\n",
        "    format=\"%(asctime)s - %(levelname)s - %(message)s\"  # Log format\n",
        ")\n",
        "\n",
        "# Attempt to perform division\n",
        "try:\n",
        "    numerator = 10\n",
        "    denominator = 0\n",
        "    result = numerator / denominator\n",
        "    print(f\"The result is: {result}\")\n",
        "\n",
        "# Handle and log ZeroDivisionError\n",
        "except ZeroDivisionError as e:\n",
        "    error_message = f\"Division by zero error: {e}\"\n",
        "    print(\"Error: Division by zero occurred. Check the log for details.\")\n",
        "    logging.error(error_message)  # Log the error message\n"
      ],
      "metadata": {
        "colab": {
          "base_uri": "https://localhost:8080/"
        },
        "id": "sgcp9JVx6sd5",
        "outputId": "612b0e38-5782-4513-c3cc-26851554ad56"
      },
      "execution_count": 11,
      "outputs": [
        {
          "output_type": "stream",
          "name": "stderr",
          "text": [
            "ERROR:root:Division by zero error: division by zero\n"
          ]
        },
        {
          "output_type": "stream",
          "name": "stdout",
          "text": [
            "Error: Division by zero occurred. Check the log for details.\n"
          ]
        }
      ]
    },
    {
      "cell_type": "code",
      "source": [
        "# 7. How do you log information at different levels (INFO, ERROR, WARNING) in Python using the logging module\n",
        "import logging\n",
        "\n",
        "# Configure basic logging settings\n",
        "logging.basicConfig(\n",
        "    filename=\"app.log\",          # Log file name\n",
        "    level=logging.DEBUG,         # Set minimum log level\n",
        "    format=\"%(asctime)s - %(levelname)s - %(message)s\"\n",
        ")\n",
        "\n",
        "# Log messages at different levels\n",
        "logging.debug(\"This is a debug message.\")\n",
        "logging.info(\"This is an info message.\")\n",
        "logging.warning(\"This is a warning message.\")\n",
        "logging.error(\"This is an error message.\")\n",
        "logging.critical(\"This is a critical message.\")\n"
      ],
      "metadata": {
        "colab": {
          "base_uri": "https://localhost:8080/"
        },
        "id": "Po6PpfjG62XV",
        "outputId": "e0950c47-809a-4595-a819-59190aa0928d"
      },
      "execution_count": 12,
      "outputs": [
        {
          "output_type": "stream",
          "name": "stderr",
          "text": [
            "WARNING:root:This is a warning message.\n",
            "ERROR:root:This is an error message.\n",
            "CRITICAL:root:This is a critical message.\n"
          ]
        }
      ]
    },
    {
      "cell_type": "code",
      "source": [
        "# 8. Write a program to handle a file opening error using exception handling# Attempt to open a file\n",
        "try:\n",
        "    # Open a non-existent file\n",
        "    file_name = \"file1.txt\"\n",
        "    file = open(file_name, \"r\")\n",
        "    content = file.read()\n",
        "    print(content)\n",
        "    file.close()\n",
        "\n",
        "# Handle file not found error\n",
        "except FileNotFoundError:\n",
        "    print(f\"Error: The file '{file_name}' was not found.\")\n",
        "\n",
        "# Handle any other I/O error\n",
        "except IOError:\n",
        "    print(f\"Error: Unable to read the file '{file_name}'.\")\n",
        "\n"
      ],
      "metadata": {
        "colab": {
          "base_uri": "https://localhost:8080/"
        },
        "id": "UxQyUGk97PaX",
        "outputId": "e797b032-8cfc-492e-db59-5cc2223c583c"
      },
      "execution_count": 14,
      "outputs": [
        {
          "output_type": "stream",
          "name": "stdout",
          "text": [
            "Error: The file 'file1.txt' was not found.\n"
          ]
        }
      ]
    },
    {
      "cell_type": "code",
      "source": [
        "# 9. How can you read a file line by line and store its content in a list in Python\n",
        "# Open the file in read mode\n",
        "with open(\"example.txt\", \"r\") as file:\n",
        "    # Read all lines and store them in a list\n",
        "    lines = file.readlines()\n",
        "\n",
        "# Print the list of lines\n",
        "print(lines)\n"
      ],
      "metadata": {
        "colab": {
          "base_uri": "https://localhost:8080/"
        },
        "id": "D-qUUBFi7h23",
        "outputId": "16602326-ab1d-4359-b057-77a7530add3e"
      },
      "execution_count": 16,
      "outputs": [
        {
          "output_type": "stream",
          "name": "stdout",
          "text": [
            "['Hello, this is a sample text.\\n', 'Hii My name is Ansh']\n"
          ]
        }
      ]
    },
    {
      "cell_type": "code",
      "source": [
        "# 10. How can you append data to an existing file in Python\n",
        "with open(\"example.txt\", \"a\") as file:\n",
        "    file.write(\"This is a new line.\\n\")"
      ],
      "metadata": {
        "id": "5Fn8whqy7xo9"
      },
      "execution_count": 18,
      "outputs": []
    },
    {
      "cell_type": "code",
      "source": [
        "# 11. Write a Python program that uses a try-except block to handle an error when attempting to access a dictionary key that doesn't exist.\n",
        "# Define a sample dictionary\n",
        "my_dict = {\n",
        "    \"name\": \"Alice\",\n",
        "    \"age\": 25,\n",
        "    \"city\": \"New York\"\n",
        "}\n",
        "\n",
        "# Key to access\n",
        "key_to_access = \"country\"\n",
        "\n",
        "# Try to access the key and handle KeyError\n",
        "try:\n",
        "    # Attempt to access the key\n",
        "    value = my_dict[key_to_access]\n",
        "    print(f\"The value of '{key_to_access}' is: {value}\")\n",
        "\n",
        "# Handle KeyError if the key is not found\n",
        "except KeyError:\n",
        "    print(f\"Error: The key '{key_to_access}' does not exist in the dictionary.\")\n",
        "\n"
      ],
      "metadata": {
        "colab": {
          "base_uri": "https://localhost:8080/"
        },
        "id": "9iGdQa-b8IxG",
        "outputId": "e3d682f3-bde5-49c6-ccb1-8e8122c0ccca"
      },
      "execution_count": 19,
      "outputs": [
        {
          "output_type": "stream",
          "name": "stdout",
          "text": [
            "Error: The key 'country' does not exist in the dictionary.\n"
          ]
        }
      ]
    },
    {
      "cell_type": "code",
      "source": [
        "# 12. Write a program that demonstrates using multiple except blocks to handle different types of exceptions\n",
        "try:\n",
        "    # Get two numbers from the user\n",
        "    num1 = int(input(\"Enter the first number: \"))\n",
        "    num2 = int(input(\"Enter the second number: \"))\n",
        "\n",
        "    # Perform division\n",
        "    result = num1 / num2\n",
        "    print(f\"The result of {num1} / {num2} is: {result}\")\n",
        "\n",
        "# Handle division by zero error\n",
        "except ZeroDivisionError:\n",
        "    print(\"Error: Division by zero is not allowed.\")\n",
        "\n",
        "# Handle invalid input error\n",
        "except ValueError:\n",
        "    print(\"Error: Invalid input! Please enter a valid integer.\")\n",
        "\n",
        "# Handle any other unexpected errors\n",
        "except Exception as e:\n",
        "    print(f\"An unexpected error occurred: {e}\")\n"
      ],
      "metadata": {
        "colab": {
          "base_uri": "https://localhost:8080/"
        },
        "id": "qIDQ_IHn8g-w",
        "outputId": "d40f4225-de54-47f3-becf-66f2734462ad"
      },
      "execution_count": 21,
      "outputs": [
        {
          "output_type": "stream",
          "name": "stdout",
          "text": [
            "Enter the first number: 10\n",
            "Enter the second number: 2\n",
            "The result of 10 / 2 is: 5.0\n"
          ]
        }
      ]
    },
    {
      "cell_type": "code",
      "source": [
        "# 13. How would you check if a file exists before attempting to read it in Python\n",
        "import os\n",
        "\n",
        "# File to check\n",
        "filename = \"example.txt\"\n",
        "\n",
        "# Check if the file exists and is a file\n",
        "if os.path.isfile(filename):\n",
        "    with open(filename, \"r\") as file:\n",
        "        content = file.read()\n",
        "        print(\"File content:\\n\", content)\n",
        "else:\n",
        "    print(f\"Error: '{filename}' is not a valid file or does not exist.\")\n"
      ],
      "metadata": {
        "colab": {
          "base_uri": "https://localhost:8080/"
        },
        "id": "S_GJ50dS8wMm",
        "outputId": "9dd8ac38-84fc-4c4f-be8c-9bbee3aff197"
      },
      "execution_count": 24,
      "outputs": [
        {
          "output_type": "stream",
          "name": "stdout",
          "text": [
            "File content:\n",
            " Hello, this is a sample text.\n",
            "Hii My name is AnshThis is a new line.\n",
            "This is a new line.\n",
            "\n"
          ]
        }
      ]
    },
    {
      "cell_type": "code",
      "source": [
        "# 14.  Write a program that uses the logging module to log both informational and error messages\n",
        "import logging\n",
        "\n",
        "# Configure the logging settings\n",
        "logging.basicConfig(\n",
        "    filename=\"app.log\",         # Name of the log file\n",
        "    level=logging.DEBUG,        # Minimum log level to capture\n",
        "    format=\"%(asctime)s - %(levelname)s - %(message)s\"  # Log format\n",
        ")\n",
        "\n",
        "# Log an informational message\n",
        "logging.info(\"Application started successfully.\")\n",
        "\n",
        "try:\n",
        "    # Simulate a division operation\n",
        "    num1 = int(input(\"Enter the numerator: \"))\n",
        "    num2 = int(input(\"Enter the denominator: \"))\n",
        "    result = num1 / num2\n",
        "\n",
        "    # Log successful result\n",
        "    logging.info(f\"Division successful: {num1} / {num2} = {result}\")\n",
        "    print(f\"The result is: {result}\")\n",
        "\n",
        "# Handle division by zero error\n",
        "except ZeroDivisionError:\n",
        "    logging.error(\"Error: Division by zero attempted.\")\n",
        "    print(\"Error: You cannot divide by zero.\")\n",
        "\n",
        "# Handle invalid input error\n",
        "except ValueError:\n",
        "    logging.error(\"Error: Invalid input provided.\")\n",
        "    print(\"Error: Please enter valid numbers.\")\n",
        "\n",
        "# Handle any other unexpected errors\n",
        "except Exception as e:\n",
        "    logging.error(f\"An unexpected error occurred: {e}\")\n",
        "    print(f\"An unexpected error occurred: {e}\")\n",
        "\n",
        "# Final message after execution\n",
        "finally:\n",
        "    logging.info(\"Application finished execution.\")\n"
      ],
      "metadata": {
        "colab": {
          "base_uri": "https://localhost:8080/"
        },
        "id": "YSBXKSYU9DZH",
        "outputId": "e14f6bb8-7409-470d-d7a6-e6ce2c753682"
      },
      "execution_count": 25,
      "outputs": [
        {
          "output_type": "stream",
          "name": "stdout",
          "text": [
            "Enter the numerator: 50\n",
            "Enter the denominator: 10\n",
            "The result is: 5.0\n"
          ]
        }
      ]
    },
    {
      "cell_type": "code",
      "source": [
        "# 15. Write a Python program that prints the content of a file and handles the case when the file is empty\n",
        "import os\n",
        "\n",
        "# Get the filename from the user\n",
        "filename = input(\"Enter the filename: \")\n",
        "\n",
        "# Check if the file exists\n",
        "if os.path.exists(filename):\n",
        "    # Open and read the file\n",
        "    with open(filename, \"r\") as file:\n",
        "        content = file.read()\n",
        "\n",
        "        # Check if the file is empty\n",
        "        if content.strip():  # Check if the content is not empty\n",
        "            print(\"File content:\\n\", content)\n",
        "        else:\n",
        "            print(f\"The file '{filename}' is empty.\")\n",
        "else:\n",
        "    print(f\"Error: The file '{filename}' does not exist.\")\n"
      ],
      "metadata": {
        "colab": {
          "base_uri": "https://localhost:8080/"
        },
        "id": "Kcx32WiT9gJZ",
        "outputId": "96172d71-d25c-48cb-ee92-bff2494a234c"
      },
      "execution_count": 26,
      "outputs": [
        {
          "output_type": "stream",
          "name": "stdout",
          "text": [
            "Enter the filename: file1.txt\n",
            "Error: The file 'file1.txt' does not exist.\n"
          ]
        }
      ]
    },
    {
      "cell_type": "code",
      "source": [
        "# 17. Write a Python program to create and write a list of numbers to a file, one number per line\n",
        "# Create a list of numbers\n",
        "numbers = [1, 2, 3, 4, 5, 6, 7, 8, 9, 10]\n",
        "\n",
        "# Define the file name\n",
        "filename = \"numbers.txt\"\n",
        "\n",
        "# Open the file in write mode\n",
        "with open(filename, \"w\") as file:\n",
        "    # Iterate through the list and write each number to the file\n",
        "    for number in numbers:\n",
        "        file.write(str(number) + \"\\n\")\n",
        "\n",
        "print(f\"Numbers have been written to {filename} successfully.\")\n"
      ],
      "metadata": {
        "colab": {
          "base_uri": "https://localhost:8080/"
        },
        "id": "OiQMnq9f9vyg",
        "outputId": "16fa960d-0744-446f-f4a9-2c4e2e666032"
      },
      "execution_count": 29,
      "outputs": [
        {
          "output_type": "stream",
          "name": "stdout",
          "text": [
            "Numbers have been written to numbers.txt successfully.\n"
          ]
        }
      ]
    },
    {
      "cell_type": "code",
      "source": [
        "# 18. How would you implement a basic logging setup that logs to a file with rotation after 1MB ?\n",
        "import logging\n",
        "from logging.handlers import RotatingFileHandler\n",
        "\n",
        "# Define the log file name and size\n",
        "log_file = \"app.log\"\n",
        "max_file_size = 1 * 1024 * 1024  # 1 MB\n",
        "backup_count = 3  # Keep 3 backup logs\n",
        "\n",
        "# Create a rotating file handler\n",
        "handler = RotatingFileHandler(\n",
        "    log_file,\n",
        "    maxBytes=max_file_size,\n",
        "    backupCount=backup_count\n",
        ")\n",
        "\n",
        "# Define the logging format\n",
        "formatter = logging.Formatter(\n",
        "    \"%(asctime)s - %(levelname)s - %(message)s\"\n",
        ")\n",
        "\n",
        "# Set the formatter for the handler\n",
        "handler.setFormatter(formatter)\n",
        "\n",
        "# Create a logger\n",
        "logger = logging.getLogger(\"MyAppLogger\")\n",
        "logger.setLevel(logging.DEBUG)  # Set log level to DEBUG\n",
        "logger.addHandler(handler)\n",
        "\n",
        "# Log some sample messages\n",
        "logger.info(\"Application started.\")\n",
        "logger.debug(\"This is a debug message.\")\n",
        "logger.warning(\"This is a warning!\")\n",
        "logger.error(\"An error occurred!\")\n",
        "logger.critical(\"Critical issue detected!\")\n"
      ],
      "metadata": {
        "colab": {
          "base_uri": "https://localhost:8080/"
        },
        "id": "qt67aDuv-DYp",
        "outputId": "02d1223a-d460-4436-9e0b-e37e2a8e98c6"
      },
      "execution_count": 30,
      "outputs": [
        {
          "output_type": "stream",
          "name": "stderr",
          "text": [
            "INFO:MyAppLogger:Application started.\n",
            "DEBUG:MyAppLogger:This is a debug message.\n",
            "WARNING:MyAppLogger:This is a warning!\n",
            "ERROR:MyAppLogger:An error occurred!\n",
            "CRITICAL:MyAppLogger:Critical issue detected!\n"
          ]
        }
      ]
    },
    {
      "cell_type": "code",
      "source": [
        "# 19. Write a program that handles both IndexError and KeyError using a try-except block\n",
        "# List and dictionary for demonstration\n",
        "my_list = [10, 20, 30]\n",
        "my_dict = {\"name\": \"Alice\", \"age\": 25}\n",
        "\n",
        "try:\n",
        "    # Attempt to access an invalid index in the list\n",
        "    print(my_list[5])  # This will raise an IndexError\n",
        "\n",
        "    # Attempt to access a non-existent key in the dictionary\n",
        "    print(my_dict[\"city\"])  # This will raise a KeyError\n",
        "\n",
        "except IndexError:\n",
        "    print(\"IndexError: List index out of range. Please check the index.\")\n",
        "\n",
        "except KeyError:\n",
        "    print(\"KeyError: Key not found in the dictionary. Please check the key.\")\n",
        "\n",
        "# Additional code to show normal program flow\n",
        "print(\"Program continues after handling the exception.\")\n"
      ],
      "metadata": {
        "colab": {
          "base_uri": "https://localhost:8080/"
        },
        "id": "y1gSTt4J-3D-",
        "outputId": "5de6e1bd-9a99-4531-dc7a-e804513567f6"
      },
      "execution_count": 31,
      "outputs": [
        {
          "output_type": "stream",
          "name": "stdout",
          "text": [
            "IndexError: List index out of range. Please check the index.\n",
            "Program continues after handling the exception.\n"
          ]
        }
      ]
    },
    {
      "cell_type": "code",
      "source": [
        "# 20.  How would you open a file and read its contents using a context manager in Python\n",
        "# Define the file name\n",
        "filename = \"example.txt\"\n",
        "\n",
        "# Open and read the file using a context manager\n",
        "with open(filename, \"r\") as file:\n",
        "    # Read the entire contents of the file\n",
        "    content = file.read()\n",
        "\n",
        "# Print the contents of the file\n",
        "print(\"File contents:\")\n",
        "print(content)\n"
      ],
      "metadata": {
        "colab": {
          "base_uri": "https://localhost:8080/"
        },
        "id": "OPQe4ayo_Dar",
        "outputId": "caa9d865-4f77-4cc2-cd5f-c6216a1a270b"
      },
      "execution_count": 32,
      "outputs": [
        {
          "output_type": "stream",
          "name": "stdout",
          "text": [
            "File contents:\n",
            "Hello, this is a sample text.\n",
            "Hii My name is AnshThis is a new line.\n",
            "This is a new line.\n",
            "\n"
          ]
        }
      ]
    },
    {
      "cell_type": "code",
      "source": [
        "# 21.  Write a Python program that reads a file and prints the number of occurrences of a specific word\n",
        "# Define the file name and the target word\n",
        "filename = \"example.txt\"\n",
        "target_word = \"Python\"\n",
        "\n",
        "# Initialize the word count\n",
        "word_count = 0\n",
        "\n",
        "# Open and read the file using a context manager\n",
        "with open(filename, \"r\") as file:\n",
        "    # Read the file content\n",
        "    content = file.read()\n",
        "\n",
        "    # Split the content into words\n",
        "    words = content.split()\n",
        "\n",
        "    # Count occurrences of the target word (case-insensitive)\n",
        "    for word in words:\n",
        "        if word.lower() == target_word.lower():\n",
        "            word_count += 1\n",
        "\n",
        "# Print the result\n",
        "print(f\"The word '{target_word}' occurs {word_count} times in the file '{filename}'.\")\n"
      ],
      "metadata": {
        "colab": {
          "base_uri": "https://localhost:8080/"
        },
        "id": "D8pYZfre_Q1x",
        "outputId": "b475c8a3-7cd8-4af3-971a-d41ed8c57af8"
      },
      "execution_count": 33,
      "outputs": [
        {
          "output_type": "stream",
          "name": "stdout",
          "text": [
            "The word 'Python' occurs 0 times in the file 'example.txt'.\n"
          ]
        }
      ]
    },
    {
      "cell_type": "code",
      "source": [
        "# 22. How can you check if a file is empty before attempting to read its contents\n",
        "import os\n",
        "\n",
        "# Define the file name\n",
        "filename = \"example.txt\"\n",
        "\n",
        "# Check if the file is empty\n",
        "if os.path.getsize(filename) == 0:\n",
        "    print(f\"The file '{filename}' is empty.\")\n",
        "else:\n",
        "    with open(filename, \"r\") as file:\n",
        "        content = file.read()\n",
        "        print(\"File contents:\")\n",
        "        print(content)\n"
      ],
      "metadata": {
        "colab": {
          "base_uri": "https://localhost:8080/"
        },
        "id": "KvcMVZeT_etO",
        "outputId": "2cdb502c-4bf3-4e71-f551-ca24280e668f"
      },
      "execution_count": 34,
      "outputs": [
        {
          "output_type": "stream",
          "name": "stdout",
          "text": [
            "File contents:\n",
            "Hello, this is a sample text.\n",
            "Hii My name is AnshThis is a new line.\n",
            "This is a new line.\n",
            "\n"
          ]
        }
      ]
    },
    {
      "cell_type": "code",
      "source": [
        "# 23. Write a Python program that writes to a log file when an error occurs during file handling\n",
        "import logging\n",
        "\n",
        "# Configure logging to write to a log file\n",
        "log_file = \"file_errors.log\"\n",
        "logging.basicConfig(\n",
        "    filename=log_file,\n",
        "    level=logging.ERROR,\n",
        "    format=\"%(asctime)s - %(levelname)s - %(message)s\"\n",
        ")\n",
        "\n",
        "# Define the file name\n",
        "filename = \"example.txt\"\n",
        "\n",
        "try:\n",
        "    # Attempt to open the file in read mode\n",
        "    with open(filename, \"r\") as file:\n",
        "        content = file.read()\n",
        "        print(\"File contents:\")\n",
        "        print(content)\n",
        "\n",
        "except FileNotFoundError:\n",
        "    error_message = f\"Error: The file '{filename}' was not found.\"\n",
        "    print(error_message)\n",
        "    logging.error(error_message)\n",
        "\n",
        "except PermissionError:\n",
        "    error_message = f\"Error: Permission denied to access '{filename}'.\"\n",
        "    print(error_message)\n",
        "    logging.error(error_message)\n",
        "\n",
        "except Exception as e:\n",
        "    error_message = f\"An unexpected error occurred: {str(e)}\"\n",
        "    print(error_message)\n",
        "    logging.error(error_message)\n",
        "\n",
        "# Continue with other operations\n",
        "print(\"Program execution continues...\")\n"
      ],
      "metadata": {
        "colab": {
          "base_uri": "https://localhost:8080/"
        },
        "id": "U-Slz4tI_pjC",
        "outputId": "6b91a0c2-afc1-4849-fe7d-23b814d9d45c"
      },
      "execution_count": 35,
      "outputs": [
        {
          "output_type": "stream",
          "name": "stdout",
          "text": [
            "File contents:\n",
            "Hello, this is a sample text.\n",
            "Hii My name is AnshThis is a new line.\n",
            "This is a new line.\n",
            "\n",
            "Program execution continues...\n"
          ]
        }
      ]
    },
    {
      "cell_type": "code",
      "source": [],
      "metadata": {
        "id": "0m29cUSS_zN-"
      },
      "execution_count": null,
      "outputs": []
    }
  ]
}